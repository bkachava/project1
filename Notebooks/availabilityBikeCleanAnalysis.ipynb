{
 "cells": [
  {
   "cell_type": "markdown",
   "metadata": {},
   "source": [
    "# Pytheam - Project 1\n",
    "----\n",
    "\n",
    "## Estimate of Bike Availability \n",
    "\n",
    "### Summary\n",
    "This notebook shows the process we followed to clean, explore and analyze the data sets that contains\n",
    "information about the Trips made by Ecobici on January and February 2019.\n",
    "\n",
    "---\n"
   ]
  },
  {
   "cell_type": "code",
   "execution_count": 1,
   "metadata": {},
   "outputs": [],
   "source": [
    "# Import Dependencies\n",
    "import pandas as pd\n",
    "import math\n",
    "import gc"
   ]
  },
  {
   "cell_type": "code",
   "execution_count": 2,
   "metadata": {},
   "outputs": [],
   "source": [
    "#Read files from January and February 2019 of Ecobici Trips\n",
    "file1_csv = \"../Resources/datasets/Martha/2019-01.csv\"\n",
    "file2_csv = \"../Resources/datasets/Martha/2019-02.csv\""
   ]
  },
  {
   "cell_type": "code",
   "execution_count": 4,
   "metadata": {},
   "outputs": [
    {
     "name": "stderr",
     "output_type": "stream",
     "text": [
      "C:\\Users\\marth\\AppData\\Local\\conda\\conda\\envs\\PythonData\\lib\\site-packages\\IPython\\core\\interactiveshell.py:3020: DtypeWarning: Columns (2) have mixed types. Specify dtype option on import or set low_memory=False.\n",
      "  interactivity=interactivity, compiler=compiler, result=result)\n"
     ]
    }
   ],
   "source": [
    "dataBikesJanuary_df = pd.read_csv(file1_csv)\n",
    "dataBikesFebruary_df = pd.read_csv(file2_csv)"
   ]
  },
  {
   "cell_type": "code",
   "execution_count": 5,
   "metadata": {},
   "outputs": [
    {
     "name": "stdout",
     "output_type": "stream",
     "text": [
      "<class 'pandas.core.frame.DataFrame'>\n",
      "RangeIndex: 697289 entries, 0 to 697288\n",
      "Data columns (total 9 columns):\n",
      "Genero_Usuario           697289 non-null object\n",
      "Edad_Usuario             697289 non-null int64\n",
      "Bici                     697289 non-null object\n",
      "Ciclo_Estacion_Retiro    697289 non-null int64\n",
      "Fecha_Retiro             697289 non-null object\n",
      "Hora_Retiro              697289 non-null object\n",
      "Ciclo_Estacion_Arribo    697289 non-null int64\n",
      "Fecha_Arribo             697289 non-null object\n",
      "Hora_Arribo              697289 non-null object\n",
      "dtypes: int64(3), object(6)\n",
      "memory usage: 47.9+ MB\n"
     ]
    }
   ],
   "source": [
    "dataBikesJanuary_df.info()"
   ]
  },
  {
   "cell_type": "code",
   "execution_count": 6,
   "metadata": {},
   "outputs": [
    {
     "name": "stdout",
     "output_type": "stream",
     "text": [
      "<class 'pandas.core.frame.DataFrame'>\n",
      "RangeIndex: 684077 entries, 0 to 684076\n",
      "Data columns (total 9 columns):\n",
      "Genero_Usuario           684077 non-null object\n",
      "Edad_Usuario             684077 non-null int64\n",
      "Bici                     684077 non-null object\n",
      "Ciclo_Estacion_Retiro    684077 non-null int64\n",
      "Fecha_Retiro             684077 non-null object\n",
      "Hora_Retiro              684077 non-null object\n",
      "Ciclo_Estacion_Arribo    684077 non-null int64\n",
      "Fecha_Arribo             684077 non-null object\n",
      "Hora_Arribo              684077 non-null object\n",
      "dtypes: int64(3), object(6)\n",
      "memory usage: 47.0+ MB\n"
     ]
    }
   ],
   "source": [
    "dataBikesFebruary_df.info()"
   ]
  },
  {
   "cell_type": "code",
   "execution_count": 7,
   "metadata": {},
   "outputs": [],
   "source": [
    "#clean dates in dataframe\n",
    "# dropping null value columns to avoid errors \n",
    "dataBikesJanuary_df.dropna(inplace = True) \n",
    "\n",
    "# substring to be searched\n",
    "sub ='2019'\n",
    "\n",
    "# creating and passsing series to new column \n",
    "dataBikesJanuary_df['other_date'] = dataBikesJanuary_df[\"Fecha_Retiro\"].str.find(sub)"
   ]
  },
  {
   "cell_type": "code",
   "execution_count": 8,
   "metadata": {},
   "outputs": [],
   "source": [
    "dataBikesJanuary_df.drop(dataBikesJanuary_df[dataBikesJanuary_df.other_date == -1].index, inplace=True)"
   ]
  },
  {
   "cell_type": "code",
   "execution_count": 9,
   "metadata": {},
   "outputs": [
    {
     "data": {
      "text/plain": [
       "26"
      ]
     },
     "execution_count": 9,
     "metadata": {},
     "output_type": "execute_result"
    }
   ],
   "source": [
    "#clean memory\n",
    "gc.collect()"
   ]
  },
  {
   "cell_type": "code",
   "execution_count": 10,
   "metadata": {},
   "outputs": [],
   "source": [
    "#clean dates in dataframe\n",
    "# dropping null value columns to avoid errors \n",
    "dataBikesFebruary_df.dropna(inplace = True) \n",
    "\n",
    "# substring to be searched\n",
    "sub ='2019'\n",
    "\n",
    "# creating and passsing series to new column \n",
    "dataBikesFebruary_df['other_date'] = dataBikesFebruary_df[\"Fecha_Retiro\"].str.find(sub)"
   ]
  },
  {
   "cell_type": "code",
   "execution_count": 11,
   "metadata": {},
   "outputs": [],
   "source": [
    "dataBikesFebruary_df.drop(dataBikesFebruary_df[dataBikesFebruary_df.other_date == -1].index, inplace=True)"
   ]
  },
  {
   "cell_type": "code",
   "execution_count": 12,
   "metadata": {},
   "outputs": [
    {
     "data": {
      "text/plain": [
       "26"
      ]
     },
     "execution_count": 12,
     "metadata": {},
     "output_type": "execute_result"
    }
   ],
   "source": [
    "#clean memory\n",
    "gc.collect()"
   ]
  },
  {
   "cell_type": "code",
   "execution_count": 13,
   "metadata": {},
   "outputs": [
    {
     "data": {
      "text/html": [
       "<div>\n",
       "<style scoped>\n",
       "    .dataframe tbody tr th:only-of-type {\n",
       "        vertical-align: middle;\n",
       "    }\n",
       "\n",
       "    .dataframe tbody tr th {\n",
       "        vertical-align: top;\n",
       "    }\n",
       "\n",
       "    .dataframe thead th {\n",
       "        text-align: right;\n",
       "    }\n",
       "</style>\n",
       "<table border=\"1\" class=\"dataframe\">\n",
       "  <thead>\n",
       "    <tr style=\"text-align: right;\">\n",
       "      <th></th>\n",
       "      <th>month</th>\n",
       "      <th>number_bikes</th>\n",
       "    </tr>\n",
       "  </thead>\n",
       "  <tbody>\n",
       "    <tr>\n",
       "      <th>0</th>\n",
       "      <td>01/01/2019</td>\n",
       "      <td>10912</td>\n",
       "    </tr>\n",
       "  </tbody>\n",
       "</table>\n",
       "</div>"
      ],
      "text/plain": [
       "        month  number_bikes\n",
       "0  01/01/2019         10912"
      ]
     },
     "execution_count": 13,
     "metadata": {},
     "output_type": "execute_result"
    }
   ],
   "source": [
    "#bikes by month\n",
    "#write id by month\n",
    "bikes_df = pd.DataFrame(columns=['month','number_bikes'])\n",
    "bikes_df['month'] = [dataBikesJanuary_df.iloc[0,4]]\n",
    "#count the unique id bici of first month\n",
    "bikes_df['number_bikes'] = dataBikesJanuary_df.Bici.nunique()\n",
    "bikes_df"
   ]
  },
  {
   "cell_type": "code",
   "execution_count": 14,
   "metadata": {},
   "outputs": [
    {
     "data": {
      "text/html": [
       "<div>\n",
       "<style scoped>\n",
       "    .dataframe tbody tr th:only-of-type {\n",
       "        vertical-align: middle;\n",
       "    }\n",
       "\n",
       "    .dataframe tbody tr th {\n",
       "        vertical-align: top;\n",
       "    }\n",
       "\n",
       "    .dataframe thead th {\n",
       "        text-align: right;\n",
       "    }\n",
       "</style>\n",
       "<table border=\"1\" class=\"dataframe\">\n",
       "  <thead>\n",
       "    <tr style=\"text-align: right;\">\n",
       "      <th></th>\n",
       "      <th>month</th>\n",
       "      <th>number_bikes</th>\n",
       "    </tr>\n",
       "  </thead>\n",
       "  <tbody>\n",
       "    <tr>\n",
       "      <th>0</th>\n",
       "      <td>01/01/2019</td>\n",
       "      <td>10912</td>\n",
       "    </tr>\n",
       "    <tr>\n",
       "      <th>1</th>\n",
       "      <td>01/02/2019</td>\n",
       "      <td>11910</td>\n",
       "    </tr>\n",
       "  </tbody>\n",
       "</table>\n",
       "</div>"
      ],
      "text/plain": [
       "        month  number_bikes\n",
       "0  01/01/2019         10912\n",
       "1  01/02/2019         11910"
      ]
     },
     "execution_count": 14,
     "metadata": {},
     "output_type": "execute_result"
    }
   ],
   "source": [
    "#count id bici of second month\n",
    "m = dataBikesFebruary_df.iloc[0,4]\n",
    "#print(m)\n",
    "nb = dataBikesFebruary_df.Bici.nunique()\n",
    "# print(nb)\n",
    "bikes_df.loc[1] = [m,nb]\n",
    "bikes_df"
   ]
  },
  {
   "cell_type": "code",
   "execution_count": 20,
   "metadata": {},
   "outputs": [
    {
     "name": "stdout",
     "output_type": "stream",
     "text": [
      "Average bikes:  11411.0\n"
     ]
    }
   ],
   "source": [
    "#Calculate mean for average total number of bikes\n",
    "m = bikes_df['number_bikes'].mean()\n",
    "print(\"Average bikes: \", m) "
   ]
  },
  {
   "cell_type": "code",
   "execution_count": 21,
   "metadata": {},
   "outputs": [
    {
     "name": "stdout",
     "output_type": "stream",
     "text": [
      "Standard Deviation:  705.6925676241744\n"
     ]
    }
   ],
   "source": [
    "#Calculate standar deviation to know the variacion of my sample population and the population\n",
    "sd = bikes_df['number_bikes'].std()\n",
    "print(\"Standard Deviation: \", sd)"
   ]
  },
  {
   "cell_type": "code",
   "execution_count": 22,
   "metadata": {},
   "outputs": [
    {
     "name": "stdout",
     "output_type": "stream",
     "text": [
      "1.4142135623730951\n",
      "Standar error:  499.0\n"
     ]
    }
   ],
   "source": [
    "#Calculate standard error to know how close the value is of the overall population\n",
    "srsz = math.sqrt(len(bikes_df))\n",
    "print(srsz)\n",
    "se = sd/srsz\n",
    "print(\"Standar error: \", se)"
   ]
  },
  {
   "cell_type": "code",
   "execution_count": 23,
   "metadata": {},
   "outputs": [
    {
     "name": "stdout",
     "output_type": "stream",
     "text": [
      "Conficence interval:  10912.0  -  11910.0\n"
     ]
    }
   ],
   "source": [
    "#mean +-1 standard error/ confidence interval \n",
    "mean_minus = m - se\n",
    "mean_plus = m + se\n",
    "print(\"Conficence interval: \", mean_minus,\" - \", mean_plus)"
   ]
  },
  {
   "cell_type": "code",
   "execution_count": null,
   "metadata": {},
   "outputs": [],
   "source": [
    "#bikes_df.to_csv(\"../Resources/totalBikes.csv\", index=False, encoding='utf8')"
   ]
  },
  {
   "cell_type": "code",
   "execution_count": null,
   "metadata": {},
   "outputs": [],
   "source": []
  }
 ],
 "metadata": {
  "kernelspec": {
   "display_name": "Python 3",
   "language": "python",
   "name": "python3"
  },
  "language_info": {
   "codemirror_mode": {
    "name": "ipython",
    "version": 3
   },
   "file_extension": ".py",
   "mimetype": "text/x-python",
   "name": "python",
   "nbconvert_exporter": "python",
   "pygments_lexer": "ipython3",
   "version": "3.6.7"
  }
 },
 "nbformat": 4,
 "nbformat_minor": 2
}
